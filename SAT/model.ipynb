{
 "cells": [
  {
   "cell_type": "markdown",
   "id": "5f9c8583",
   "metadata": {},
   "source": [
    "### Imports"
   ]
  },
  {
   "cell_type": "code",
   "execution_count": 21,
   "id": "d77812ef",
   "metadata": {},
   "outputs": [],
   "source": [
    "from z3 import *\n",
    "from itertools import combinations"
   ]
  },
  {
   "cell_type": "markdown",
   "id": "1397afcb",
   "metadata": {},
   "source": [
    "### Constraint encodings"
   ]
  },
  {
   "cell_type": "code",
   "execution_count": 22,
   "id": "80ac99dd",
   "metadata": {},
   "outputs": [],
   "source": [
    "def gen_var_id():\n",
    "    i = 0\n",
    "    while True:\n",
    "        i += 1\n",
    "        yield i\n",
    "gen_id = gen_var_id()\n",
    "\n",
    "def at_most_one_np(bool_vars, name = \"\"):\n",
    "    return And([Not(And(pair[0], pair[1])) for pair in combinations(bool_vars, 2)])\n",
    "\n",
    "def at_least_one_he(bool_vars):\n",
    "    return Or(bool_vars)\n",
    "\n",
    "def at_most_one_he(bool_vars, n = 4):\n",
    "    formula, sub_seq = [], [0]*n\n",
    "    i, j, _len = 0, 0, len(bool_vars)\n",
    "    id = next(gen_id)\n",
    "    for k in range(_len):\n",
    "        sub_seq[i] = bool_vars[k]\n",
    "        if _len - k == 2:\n",
    "            sub_seq[i+1] = bool_vars[-1]\n",
    "            formula.append(at_most_one_np(sub_seq[:i+2]))\n",
    "            break\n",
    "        elif i == n-2:\n",
    "            sub_seq[-1] = Bool(f\"y_{j}__{id}\")\n",
    "            formula.append(at_most_one_np(sub_seq))\n",
    "            sub_seq[0] = Not(sub_seq[-1])\n",
    "            j += 1\n",
    "            i = 0\n",
    "        i += 1\n",
    "    return And(formula)\n",
    "\n",
    "def at_most_k_seq(x, k):\n",
    "    id = next(gen_id)\n",
    "    n = len(x)\n",
    "    if n <= k:\n",
    "        return True\n",
    "    s = [[Bool(f\"s_{i}_{j}__{id}\") for j in range(k)] for i in range(n-1)]\n",
    "    return (\n",
    "        And(\n",
    "            Implies(x[0], s[0][0]),\n",
    "            Implies(s[n-2][k-1], Not(x[n-1])),\n",
    "            And([Not(s[0][j]) for j in range(1, k)]),\n",
    "            And([ \n",
    "                And(\n",
    "                    Implies(Or(x[i], s[i-1][0]), s[i][0]),\n",
    "                    And([\n",
    "                        Implies(Or(And(x[i], s[i-1][j-1]), s[i-1][j]), s[i][j])\n",
    "                    for j in range(1, k)\n",
    "                    ]),\n",
    "                    Implies(s[i-1][k-1], Not(x[i]))\n",
    "                )\n",
    "            for i in range(1,n-1)\n",
    "            ])\n",
    "        )\n",
    "    )\n",
    "\n",
    "def exactly_one_he(bool_vars, name = \"\"):\n",
    "    return And(at_most_one_he(bool_vars), at_least_one_he(bool_vars))\n",
    "\n",
    "def Iff(A, B):\n",
    "    return And(Implies(A, B), Implies(B, A))"
   ]
  },
  {
   "cell_type": "markdown",
   "id": "64a97d56",
   "metadata": {},
   "source": [
    "### Solving"
   ]
  },
  {
   "cell_type": "markdown",
   "id": "d38fa64b",
   "metadata": {},
   "source": [
    "- Teams: $N$\n",
    "- Periods: $P = N/2$\n",
    "- Weeks: $W = N - 1$\n",
    "- Round robin tournament: $rb$, a $P \\times W$ matrix of tuples $t = (t_1, t_2)$ where $t_1 < t_2$\n",
    "- Variables:\n",
    "    - $index_{p,w,t}$: teams $rb[t][w]$ play in period $p$ of weeek $w$\n",
    "    - $teams_{t_1, t_2, p}$: $t_1$ plays against $t_2$ in period $p$\n",
    "- Constraints:\n",
    "    - Every team plays at most once a week:\n",
    "        - $\\forall p \\in P, w \\in W.(\\forall t \\in P. exactly\\_one(index_{p,w,t}))$\n",
    "        - $\\forall w \\in W, t \\in P.(\\forall p \\in P. exactly\\_one(index_{p,w,t}))$\n",
    "    - Every team plays between once and twice a week\n",
    "        - $\\forall p \\in P, w \\in W, t \\in P.(index_{p,w,t} \\leftrightarrow teams_{rb[t][w][0], rb[t][w][1], p})$\n",
    "        - $\\forall p \\in P, t_1 \\in N.(\\forall t_2 \\in N. (t_1 < t_2 \\rightarrow at\\_most\\_2(teams_{t_1, t_2, p}))$"
   ]
  },
  {
   "cell_type": "code",
   "execution_count": 23,
   "id": "7f4c33f7",
   "metadata": {},
   "outputs": [],
   "source": [
    "def solve_instance(rb, P, W, N):\n",
    "    index = [[[Bool(f\"index{p}_{w}_{t}\") for t in range(P)] for w in range(W)] for p in range(P)]\n",
    "    teams = [[[Bool(f\"team{ti}_{tj}_{p}\") for p in range(P)] for tj in range(N)] for ti in range(N)]\n",
    "\n",
    "    s = Solver()\n",
    "    \n",
    "    # every team plays at most once every week\n",
    "    for p in range(P):\n",
    "       for w in range(W):\n",
    "            s.add(exactly_one_he([index[p][w][t] for t in range(P)]))\n",
    "    for w in range(W):\n",
    "        for t in range(P):\n",
    "            s.add(exactly_one_he([index[p][w][t] for p in range(P)]))\n",
    "\n",
    "    # every team plays between once and twice in each period\n",
    "    for p in range(P):\n",
    "        for w in range(W):\n",
    "            for t in range(P):\n",
    "                s.add(Iff(index[p][w][t], teams[rb[t][w][0]][rb[t][w][1]][p]))\n",
    "    for bp in range(P):\n",
    "        s.add(at_most_k_seq([teams[0][t2][bp] for t2 in range(1, N)], 2))\n",
    "        s.add(at_most_k_seq([teams[t2][-1][bp] for t2 in range(0, N-1)], 2))\n",
    "        for t1 in range(1, N-1):\n",
    "            s.add(at_most_k_seq([teams[t2][t1][bp] for t2 in range(t1)]+[teams[t1][t2][bp] for t2 in range(t1+1, N)], 2))\n",
    "\n",
    "    s.check()\n",
    "    model = s.model()\n",
    "\n",
    "\n",
    "    res = []\n",
    "\n",
    "    for p in range(P):\n",
    "        matches = []\n",
    "        for w in range(W):\n",
    "            new_p = [model.evaluate(index[p][w][bp]) for bp in range(P)].index(True)\n",
    "            matches.append(rb[new_p][w])\n",
    "\n",
    "        res.append(matches)\n",
    "\n",
    "    # for p in range(P):\n",
    "    #     for w in range(W):\n",
    "    #         print([model.evaluate(index[p][w][bp]) for bp in range(P)], end=\", \")\n",
    "    #     print()\n",
    "\n",
    "    # for t1 in range(N):\n",
    "    #     for t2 in range(N):\n",
    "    #         if t1 < t2:\n",
    "    #             print([model.evaluate(teams[t1][t2][bp]) for bp in range(P)], end=\", \")\n",
    "    #     print()\n",
    "\n",
    "\n",
    "    return res"
   ]
  },
  {
   "cell_type": "code",
   "execution_count": 25,
   "id": "d1efa9e0",
   "metadata": {},
   "outputs": [
    {
     "name": "stdout",
     "output_type": "stream",
     "text": [
      "(0,5) (3,4) (0,4) (3,5) (1,2) \n",
      "(1,4) (1,5) (2,5) (2,4) (0,3) \n",
      "(2,3) (0,2) (1,3) (0,1) (4,5) \n"
     ]
    }
   ],
   "source": [
    "N = 6\n",
    "P = N//2\n",
    "W = N-1\n",
    "S = 2\n",
    "\n",
    "# round robin tournament with ordered slots\n",
    "rb = []\n",
    "for p in range(P):\n",
    "    matches = []\n",
    "    for w in range(W):\n",
    "        if p == 0:\n",
    "            matches.append(tuple(sorted([N-1, w])))\n",
    "        else:\n",
    "            matches.append(tuple(sorted([(p+w) % (N-1), (N-p+w-1)%(N-1)])))\n",
    "    rb.append(matches)\n",
    "\n",
    "res = solve_instance(rb, P, W, N)\n",
    "\n",
    "for p in range(P):\n",
    "    for w in range(W):\n",
    "        print(f\"({res[p][w][0]:<{int(math.log10(N)) + 1}},{res[p][w][1]:<{int(math.log10(N)) + 1}})\", end=\" \")\n",
    "    print()"
   ]
  }
 ],
 "metadata": {
  "kernelspec": {
   "display_name": ".venv",
   "language": "python",
   "name": "python3"
  },
  "language_info": {
   "codemirror_mode": {
    "name": "ipython",
    "version": 3
   },
   "file_extension": ".py",
   "mimetype": "text/x-python",
   "name": "python",
   "nbconvert_exporter": "python",
   "pygments_lexer": "ipython3",
   "version": "3.13.3"
  }
 },
 "nbformat": 4,
 "nbformat_minor": 5
}
