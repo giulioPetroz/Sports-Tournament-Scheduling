{
 "cells": [
  {
   "cell_type": "markdown",
   "id": "5f9c8583",
   "metadata": {},
   "source": [
    "### Imports"
   ]
  },
  {
   "cell_type": "code",
   "execution_count": 65,
   "id": "d77812ef",
   "metadata": {},
   "outputs": [],
   "source": [
    "from z3 import *\n",
    "from itertools import combinations\n",
    "from sat_encodings import *"
   ]
  },
  {
   "cell_type": "markdown",
   "id": "1397afcb",
   "metadata": {},
   "source": [
    "### Constraint encodings"
   ]
  },
  {
   "cell_type": "markdown",
   "id": "64a97d56",
   "metadata": {},
   "source": [
    "### Solving"
   ]
  },
  {
   "cell_type": "markdown",
   "id": "d38fa64b",
   "metadata": {},
   "source": [
    "- Teams: $N$\n",
    "- Periods: $P = N/2$\n",
    "- Weeks: $W = N - 1$\n",
    "- Round robin tournament: $rb$, a $P \\times W$ matrix of tuples $t = (t_1, t_2)$ where $t_1 < t_2$\n",
    "- Variables:\n",
    "    - $index_{p,w,t}$: teams $rb[t][w]$ play in period $p$ of weeek $w$\n",
    "    - $teams_{t_1, t_2, p}$: $t_1$ plays against $t_2$ in period $p$\n",
    "- Constraints:\n",
    "    - Every team plays at most once a week:\n",
    "        - $\\forall p \\in P, w \\in W.(\\forall t \\in P. exactly\\_one(index_{p,w,t}))$\n",
    "        - $\\forall w \\in W, t \\in P.(\\forall p \\in P. exactly\\_one(index_{p,w,t}))$\n",
    "    - Every team plays between once and twice a week\n",
    "        - $\\forall p \\in P, w \\in W, t \\in P.(index_{p,w,t} \\leftrightarrow teams_{rb[t][w][0], rb[t][w][1], p})$\n",
    "        - $\\forall p \\in P, t_1 \\in N.(\\forall t_2 \\in N. (t_1 < t_2 \\rightarrow at\\_most\\_2(teams_{t_1, t_2, p}))$"
   ]
  },
  {
   "cell_type": "code",
   "execution_count": 66,
   "id": "7f4c33f7",
   "metadata": {},
   "outputs": [],
   "source": [
    "def solve_instance(rb, P, W, N):\n",
    "    index_teams = [[[Bool(f\"index_teams{p}_{w}_{t}\") for t in range(P)] for w in range(W)] for p in range(P)]\n",
    "    teams = [[[Bool(f\"team{ti}_{tj}_{p}\") for p in range(P)] for tj in range(N)] for ti in range(N)]\n",
    "\n",
    "    solutions = {}\n",
    "\n",
    "    s_sat = Solver()\n",
    "\n",
    "    \"\"\"\n",
    "        SATISFIABILITY\n",
    "    \"\"\" \n",
    "    # every team plays at most once every week\n",
    "    for p in range(P):\n",
    "       for w in range(W):\n",
    "            s_sat.add(exactly_one_he([index_teams[p][w][t] for t in range(P)]))\n",
    "    for w in range(W):\n",
    "        for t in range(P):\n",
    "            s_sat.add(exactly_one_he([index_teams[p][w][t] for p in range(P)]))\n",
    "\n",
    "    # every team plays between once and twice in each period\n",
    "    for p in range(P):\n",
    "        for w in range(W):\n",
    "            for t in range(P):\n",
    "                s_sat.add(Iff(index_teams[p][w][t], teams[rb[t][w][0]][rb[t][w][1]][p]))\n",
    "    for bp in range(P):\n",
    "        s_sat.add(at_most_k_seq([teams[0][t2][bp] for t2 in range(1, N)], 2))\n",
    "        s_sat.add(at_most_k_seq([teams[t2][-1][bp] for t2 in range(0, N-1)], 2))\n",
    "        for t1 in range(1, N-1):\n",
    "            s_sat.add(at_most_k_seq([teams[t2][t1][bp] for t2 in range(t1)]+[teams[t1][t2][bp] for t2 in range(t1+1, N)], 2))\n",
    "\n",
    "\n",
    "    s_sat.check()\n",
    "    model_sat = s_sat.model()\n",
    "\n",
    "\n",
    "    sat_solution = []\n",
    "    for p in range(P):\n",
    "        matches = []\n",
    "        for w in range(W):\n",
    "            new_p = [model_sat.evaluate(index_teams[p][w][bp]) for bp in range(P)].index(True)\n",
    "            matches.append(rb[new_p][w])\n",
    "        sat_solution.append(matches)\n",
    "\n",
    "    solutions['sat'] = sat_solution\n",
    "\n",
    "    \"\"\"\n",
    "        OPTIMIZATION\n",
    "    \"\"\"\n",
    "    low = 0\n",
    "    high = N\n",
    "    index_roles = [[Bool(f\"role_{p}_{w}\") for w in range(W)] for p in range(P)]\n",
    "    roles =       [[Bool(f\"role_{ti}_{tj}\") for tj in range(N)] for ti in range(N)]\n",
    "    while low <= high:\n",
    "        mid = (low + high) // 2\n",
    "\n",
    "        s_opt = Solver()\n",
    "\n",
    "        # binding\n",
    "        for p in range(P):\n",
    "            for w in range(W):\n",
    "                s_opt.add(Iff(index_roles[p][w], roles[rb[p][w][0]][rb[p][w][1]]))\n",
    "\n",
    "        s_opt.add(at_least_k_seq([roles[0][t2] for t2 in range(1, N)], mid))\n",
    "        s_opt.add(at_least_k_seq([Not(roles[t2][-1]) for t2 in range(0, N-1)], mid))\n",
    "        for t1 in range(1, N-1):\n",
    "            s_opt.add(at_least_k_seq([Not(roles[t2][t1]) for t2 in range(t1)] + [roles[t1][t2] for t2 in range(t1 + 1, N)], mid))\n",
    "\n",
    "        if s_opt.check() == sat:\n",
    "            model_opt = s_opt.model()\n",
    "            solution_opt = []\n",
    "            for p in range(P):\n",
    "                matches = []\n",
    "                for w in range(W):\n",
    "                    new_r = bool(model_opt.evaluate(index_roles[p][w]))\n",
    "                    matches.append((sat_solution[p][w][new_r], sat_solution[p][w][1 - new_r]))\n",
    "                solution_opt.append(matches)\n",
    "            solutions[f'opt_{mid}'] = solution_opt\n",
    "\n",
    "            low = mid + 1\n",
    "        else:\n",
    "            high = mid - 1\n",
    "\n",
    "    return solutions"
   ]
  },
  {
   "cell_type": "code",
   "execution_count": 67,
   "id": "d1efa9e0",
   "metadata": {},
   "outputs": [],
   "source": [
    "N = 6\n",
    "P = N//2\n",
    "W = N-1\n",
    "S = 2\n",
    "\n",
    "# round robin tournament with ordered slots\n",
    "rb = []\n",
    "for p in range(P):\n",
    "    matches = []\n",
    "    for w in range(W):\n",
    "        if p == 0:\n",
    "            matches.append(tuple(sorted([N-1, w])))\n",
    "        else:\n",
    "            matches.append(tuple(sorted([(p+w) % (N-1), (N-p+w-1)%(N-1)])))\n",
    "    rb.append(matches)\n",
    "\n",
    "results = solve_instance(rb, P, W, N)"
   ]
  },
  {
   "cell_type": "code",
   "execution_count": 68,
   "id": "3f360117",
   "metadata": {},
   "outputs": [
    {
     "name": "stdout",
     "output_type": "stream",
     "text": [
      "sat\n",
      "(0,5) (3,4) (0,4) (3,5) (1,2) \n",
      "(1,4) (1,5) (2,5) (2,4) (0,3) \n",
      "(2,3) (0,2) (1,3) (0,1) (4,5) \n",
      "opt_1\n",
      "(0,5) (4,3) (4,0) (5,3) (2,1) \n",
      "(4,1) (5,1) (5,2) (4,2) (3,0) \n",
      "(3,2) (0,2) (3,1) (1,0) (5,4) \n",
      "opt_2\n",
      "(5,0) (3,4) (4,0) (3,5) (1,2) \n",
      "(1,4) (5,1) (5,2) (4,2) (0,3) \n",
      "(2,3) (0,2) (1,3) (0,1) (5,4) \n"
     ]
    }
   ],
   "source": [
    "for name, res in results.items():\n",
    "    print(f\"{name}\")\n",
    "    for p in range(P):\n",
    "        for w in range(W):\n",
    "            print(f\"({res[p][w][0]:<{int(math.log10(N)) + 1}},{res[p][w][1]:<{int(math.log10(N)) + 1}})\", end=\" \")\n",
    "        print()"
   ]
  }
 ],
 "metadata": {
  "kernelspec": {
   "display_name": ".venv",
   "language": "python",
   "name": "python3"
  },
  "language_info": {
   "codemirror_mode": {
    "name": "ipython",
    "version": 3
   },
   "file_extension": ".py",
   "mimetype": "text/x-python",
   "name": "python",
   "nbconvert_exporter": "python",
   "pygments_lexer": "ipython3",
   "version": "3.13.3"
  }
 },
 "nbformat": 4,
 "nbformat_minor": 5
}
