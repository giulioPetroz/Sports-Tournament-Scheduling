{
 "cells": [
  {
   "cell_type": "markdown",
   "id": "0c0e3798",
   "metadata": {},
   "source": [
    "# SAT model implementation details and notes"
   ]
  },
  {
   "cell_type": "markdown",
   "id": "610df7ce",
   "metadata": {},
   "source": [
    "Implementatino with Z3 and CVC5 using the common pythonic API\n",
    "\n",
    "Files:\n",
    "- `solve.py`:\n",
    "    - `solve_satisfy`: find the correct schedule\n",
    "    - `solve_optimize`: find the optimal schedule\n",
    "- `model.py`: main function with    \n",
    "    1. argument parsing\n",
    "        - `--solvers`: z3, MiniSat, CaDiCal\n",
    "        - `--timeout`: timeout in seconds\n",
    "        - `--teams`: number of teams\n",
    "    2. round robin tournament `rb` definition\n",
    "    3. `solve_satisfy`, `solve_optimize` calls for each solver specified in `--solvers`\n",
    "    4. results dump to json file\n",
    "- `sat_encodings.py`: propositional logic encodings of:\n",
    "    - `at_most_one`: pairwise encoding, used only by `at_most_one_he` (Lecture 9, page 6)\n",
    "    - `at_least_one`: $\\bigvee_{i \\in \\N} x_i$\n",
    "    - `at_most_one_he`: heule encoding (Lecture 9, page 12)\n",
    "    - `at_most_k_seq`: sequential encoding (Lecture 9, page 21)\n",
    "    - `exactly_one_he`: `at_most_one_he` $\\wedge$ `at_least_one`\n",
    "    - `Iff(A, B)`: macro for $(A \\rightarrow B) \\wedge (B \\rightarrow A)$\n",
    "    - `at_least_k_seq`: sequential encoding. \\\n",
    "    Let $\\{x_i \\ | i \\in [1,N]\\}$ be the variables on which we enforce $AtLeastK$, $\\{s_{i,j} \\ | \\ i \\in [1,N] \\ j \\in [1,K]\\}$ the auxiliary variables for $K\\geq2$.\n",
    "\n",
    "        $$\n",
    "            (s_{1,1} \\leftrightarrow x_{1}) \\ \\wedge \n",
    "            \\bigwedge_{i \\in [2, N]}((s_{i-1, 1} \\vee x_{i}) \\leftrightarrow s_{i, 1}) \\ \\wedge \n",
    "            \\bigwedge_{j \\in [1, K]}(s_{N, j}) \\ \\wedge\n",
    "            \\bigwedge_{j \\in [2, K]}(\\neg s_{1, j}) \\ \\wedge\n",
    "            \\bigwedge_{j \\in [2, k]}\n",
    "                \\bigwedge_{i \\in [2, N]}[((s_{i-1, j-1} \\wedge x_{i}) \\vee s_{i-1, j})) \\leftrightarrow s_{i, j}]\n",
    "        $$\n",
    "\n",
    "        $s_{i,j}=true \\leftrightarrow$ the sequence $(x_1, ..., x_i)$ satisfies $AtLeastJ$.\\\n",
    "        Base cases:\n",
    "        - $s_{1,1} \\leftrightarrow x_1$ for the sequence $(x_{1})$.\\\n",
    "        - $\\bigwedge_{j \\in [1, K]}(s_{N, j})$, i.e. for $(x_1, ..., x_N)$, $AtLeastJ$ must hold $\\forall j \\in [1,K]$\n",
    "        - $\\bigwedge_{j \\in [2, K]}(\\neg s_{1, j})$, i.e. for any unit-length sequence $AtLeastJ$, with $j \\geq 2$, can't hold\n",
    "\n",
    "\n",
    "        For $i > 1, j > 1$ $s_{i, j} = true$ in one of the two following cases:\n",
    "        - the sequence $(x_1, ..., x_{i-1})$ already satisfies $AtLeastJ$\n",
    "        - the sequence $(x_1, ..., x_{i-1})$ satisfies $AtLeast(J-1)$ and $x_i=true$\n",
    "\n",
    "        The encoding ensures that $\\forall j \\in [1, K]$ $AtLeastJ$ holds for a subsequence of $(x_1, ..., x_N)$\n",
    "- `utils.py`: contains utility functions:\n",
    "    - `gen_var_id`: used in `sat_encodings` to guarantee that all the auxiliary literals across the encodings of `sat_encodings` have unique identifiers. E.g the literals `s[i][j]` are found both in `at_most_k_seq` and `at_least_k_seq`, which may be used by the same model.\n",
    "    - `set_params`: used to set solver specific parameters (unused)\n",
    "    - `parse_matches_schedule`: given the model found in `solve_satisfy`, parse the schedule as a matrix\n",
    "    - `parse_slots_schedule`: given the model found in `solve_optimize` and the matrix parsed from `solve_satisfy`, parse the optimal schedule as a matrix  \n",
    "\n",
    "**NOTE**: Since the code in `utils.py` and `sat_encodings.py` is very verbose and not so important to the core process, I prefer not to report it for the sake of clarity."
   ]
  },
  {
   "cell_type": "markdown",
   "id": "0d188d07",
   "metadata": {
    "vscode": {
     "languageId": "plaintext"
    }
   },
   "source": [
    "## `main.py` routine"
   ]
  },
  {
   "cell_type": "markdown",
   "id": "92b5e1b6",
   "metadata": {},
   "source": [
    "Argument parsing"
   ]
  },
  {
   "cell_type": "code",
   "execution_count": null,
   "id": "61c17f08",
   "metadata": {},
   "outputs": [],
   "source": [
    "# Command line parameters\n",
    "parser = argparse.ArgumentParser(description=\"STS with SAT\")\n",
    "parser.add_argument(\"-n\", \"--teams\", type=int, help=\"Number of teams\", required=True)\n",
    "parser.add_argument(\n",
    "    \"-t\",\n",
    "    \"--timeout\",\n",
    "    type=int,\n",
    "    default=300,\n",
    "    help=\"Solver timeout in seconds\",\n",
    ")\n",
    "parser.add_argument(\n",
    "    \"--solvers\",\n",
    "    nargs=\"+\",\n",
    "    type=str,\n",
    "    choices=[\"z3\", \"minisat\", \"cadical\"],\n",
    "    help=\"Solvers chosen to solve instance\",\n",
    "    required=True,\n",
    ")\n",
    "\n",
    "args = parser.parse_args()\n",
    "\n",
    "n = args.teams  # number of teams\n",
    "timeout = args.timeout  # Solver timeout\n",
    "solvers = args.solvers  # list of solvers\n",
    "\n",
    "teams = range(n)  # Team identifiers\n",
    "weeks = range(n - 1)  # Week identifiers\n",
    "periods = range(n // 2)  # Period identifiers"
   ]
  },
  {
   "cell_type": "markdown",
   "id": "2086fc54",
   "metadata": {},
   "source": [
    "Round robin tournament. Slots are ordered for `solve_satisfy` and `solve_optimize` routines"
   ]
  },
  {
   "cell_type": "code",
   "execution_count": null,
   "id": "6582a42b",
   "metadata": {},
   "outputs": [],
   "source": [
    "# Round robin tournament of sorted matches (t1,t2),\n",
    "# where t1 < t2 and t1 plays at home, t2 plays away\n",
    "rb = []\n",
    "for p in periods:\n",
    "    matches = []\n",
    "    for w in weeks:\n",
    "        if p == 0:\n",
    "            matches.append((sorted([n - 1, w])))\n",
    "        else:\n",
    "            matches.append((sorted([(p + w) % (n - 1), (n - p + w - 1) % (n - 1)])))\n",
    "    rb.append(matches)"
   ]
  },
  {
   "cell_type": "markdown",
   "id": "02cdfe12",
   "metadata": {},
   "source": [
    "For every solver in the list `solvers`:\n",
    "1. call `solve_satisfy (rb, n, teams, weeks, periods, solver_mod_name, solver_params)`, where\n",
    "    - `solver_mod_name`: either `\"z3\"` or `\"cvc5.pythonic\"`, i.e. CVC5 with MiniSat/CaDiCaL\n",
    "    - `solver_params`: additional solver parameters (unused)\n",
    "\n",
    "    It returns the solution `sat_schedule`, i.e. $sts$, and the resulting running time `sat_runtime`\n",
    "2. If $sts$ is found, call `solve_optimize(sat_schedule,n,teams,weeks,periods,solution,solver_mod_name,solver_params)`. It returns the optimal schedule"
   ]
  },
  {
   "cell_type": "code",
   "execution_count": null,
   "id": "e90a0814",
   "metadata": {},
   "outputs": [],
   "source": [
    "for solver_name in solvers:\n",
    "    match solver_name:\n",
    "        case \"z3\":\n",
    "            solver_mod_name = \"z3\"\n",
    "            solver_params = {}\n",
    "        case _:  # i.e. minisat, cadical, implemented by cvc5\n",
    "            solver_mod_name = \"cvc5.pythonic\"\n",
    "            solver_params = {\n",
    "                \"sat_backend\": [  # set backend sat solver of cvc5\n",
    "                    \"sat-solver\",\n",
    "                    solver_name,\n",
    "                ],\n",
    "            }\n",
    "    # Reset total runtime for solver_name\n",
    "    total_runtime = 0\n",
    "\n",
    "    # Find basic schedule without scheduling the slots by calling solve_satisfy\n",
    "    # using a child process.\n",
    "    # If the solution isn't found within the time limit, save empty results and\n",
    "    # try the next solver_name\n",
    "    with Pool(1) as pool:\n",
    "        result = pool.apply_async(\n",
    "            solve_satisfy,\n",
    "            (rb, n, teams, weeks, periods, solver_mod_name, solver_params),\n",
    "        )\n",
    "        try:\n",
    "            # Wait the child process\n",
    "            solution = result.get(timeout=timeout)\n",
    "        except TimeoutError:\n",
    "            print(f\"{solver_name}: Timeout for satisfiability\")\n",
    "            solution = None\n",
    "\n",
    "    if solution:\n",
    "        sat_schedule, sat_runtime = solution[0], solution[1]\n",
    "        print(f\"{solver_name}: solve_satisfy in {sat_runtime:.4f}s\")\n",
    "\n",
    "        # Balance the number of times each team plays at home and away starting from\n",
    "        # the satisfying solution of solve_satisfy using a child process.\n",
    "        # If the solution isn't found within the time limit, try the next solver_name\n",
    "        with Pool(1) as pool:\n",
    "            result = pool.apply_async(\n",
    "                solve_optimize,\n",
    "                (\n",
    "                    sat_schedule,\n",
    "                    n,\n",
    "                    teams,\n",
    "                    weeks,\n",
    "                    periods,\n",
    "                    solution,\n",
    "                    solver_mod_name,\n",
    "                    solver_params,\n",
    "                ),\n",
    "            )\n",
    "            try:\n",
    "                # Wait the child process, considering the time remaining\n",
    "                # from solve_satisfy\n",
    "                solution = result.get(timeout=timeout - sat_runtime)\n",
    "            except TimeoutError:\n",
    "                print(f\"{solver_name}: Timeout for optimization\")\n",
    "            else:\n",
    "                opt_runtime = solution[1]\n",
    "                print(f\"{solver_name}: solve_optimize in {opt_runtime:.4f}s\")\n",
    "                total_runtime += opt_runtime\n",
    "\n",
    "        total_runtime += sat_runtime\n",
    "\n",
    "        print(f\"{solver_name}: total runtime {total_runtime:.4f}s\", end=\"\\n\\n\")\n",
    "\n",
    "    # Save results for current solver\n",
    "    results[solver_name] = format_solution(solution, total_runtime)"
   ]
  },
  {
   "cell_type": "markdown",
   "id": "91bd0498",
   "metadata": {},
   "source": [
    "Finally dump the results to N.json"
   ]
  },
  {
   "cell_type": "code",
   "execution_count": null,
   "id": "b4048516",
   "metadata": {},
   "outputs": [],
   "source": [
    "# Dump results to n.json, n being the number of teams\n",
    "if results:\n",
    "    with open(f\"res/SAT/{n}.json\", \"w\") as file:\n",
    "        json.dump(results, file)"
   ]
  },
  {
   "cell_type": "markdown",
   "id": "4cce8150",
   "metadata": {},
   "source": [
    "## `solve.py` routines"
   ]
  },
  {
   "cell_type": "markdown",
   "id": "9978c5b7",
   "metadata": {},
   "source": [
    "### `solve_satisfy`"
   ]
  },
  {
   "cell_type": "markdown",
   "id": "8b02b5a2",
   "metadata": {},
   "source": [
    "This command is needed since `solve_satisfy` is run in a subprocess"
   ]
  },
  {
   "cell_type": "code",
   "execution_count": null,
   "id": "23212546",
   "metadata": {},
   "outputs": [],
   "source": [
    "# translate module name into module\n",
    "solver = importlib.import_module(solver_mod_name)"
   ]
  },
  {
   "cell_type": "markdown",
   "id": "a823a9dc",
   "metadata": {},
   "source": [
    "**Variables**:\n",
    "- `matches_schedule[p][w][t]`, i.e. $match\\_schedule_{p, w, t}$\n",
    "- `matches_to_periods[ti][tj][p]`, i.e. $match\\_to\\_periods_{t_1, t_2, p}$"
   ]
  },
  {
   "cell_type": "code",
   "execution_count": null,
   "id": "3bfe3eef",
   "metadata": {},
   "outputs": [],
   "source": [
    "\n",
    "# Variables\n",
    "matches_schedule = [\n",
    "    [[solver.Bool(f\"matches_schedule_{p}_{w}_{t}\") for t in periods] for w in weeks]\n",
    "    for p in periods\n",
    "]\n",
    "matches_to_periods = [\n",
    "    [\n",
    "        [solver.Bool(f\"matches_to_periods_{ti}_{tj}_{p}\") for p in periods]\n",
    "        for tj in teams\n",
    "    ]\n",
    "    for ti in teams\n",
    "]\n"
   ]
  },
  {
   "cell_type": "markdown",
   "id": "fa5ab96d",
   "metadata": {},
   "source": [
    "Instantiate solver with additional parameters (`solver_params` can be empty)"
   ]
  },
  {
   "cell_type": "code",
   "execution_count": null,
   "id": "b63cf504",
   "metadata": {},
   "outputs": [],
   "source": [
    " # solver for satisfiability\n",
    "s_sat = solver.Solver()\n",
    "set_params(s_sat, solver_params)"
   ]
  },
  {
   "cell_type": "markdown",
   "id": "0975dba1",
   "metadata": {},
   "source": [
    "Every match is scheduled to a single period and each period is assigned to a single match"
   ]
  },
  {
   "cell_type": "code",
   "execution_count": null,
   "id": "a0455e04",
   "metadata": {},
   "outputs": [],
   "source": [
    "# one-hot encoding of the index to select the match of the week (auxiliary constraint)\n",
    "for p in periods:\n",
    "    for w in weeks:\n",
    "        s_sat.add(\n",
    "            exactly_one_he([matches_schedule[p][w][t] for t in periods], solver)\n",
    "        )\n",
    "# for each week every match in rb[*][w] is scheduled once\n",
    "for w in weeks:\n",
    "    for t in periods:\n",
    "        s_sat.add(\n",
    "            exactly_one_he([matches_schedule[p][w][t] for p in periods], solver)\n",
    "        )"
   ]
  },
  {
   "cell_type": "markdown",
   "id": "ae851572",
   "metadata": {},
   "source": [
    "Bind `matches_schedule` to `matches_to_periods`"
   ]
  },
  {
   "cell_type": "code",
   "execution_count": null,
   "id": "f45be5e3",
   "metadata": {},
   "outputs": [],
   "source": [
    "# bind matches_schedule with matches_to_periods (auxiliary constraint)\n",
    "for p in periods:\n",
    "    for w in weeks:\n",
    "        for t in periods:\n",
    "            s_sat.add(\n",
    "                Iff(\n",
    "                    matches_schedule[p][w][t],\n",
    "                    matches_to_periods[rb[t][w][0]][rb[t][w][1]][p],\n",
    "                    solver,\n",
    "                )\n",
    "            )"
   ]
  },
  {
   "cell_type": "markdown",
   "id": "8851291d",
   "metadata": {},
   "source": [
    "Every team plays at most twice in the same period: note that this implementation relies on the slot-wise ordering of `rb`"
   ]
  },
  {
   "cell_type": "code",
   "execution_count": null,
   "id": "31c82a26",
   "metadata": {},
   "outputs": [],
   "source": [
    "# each team plays at most twice in the same period\n",
    "for bp in periods:\n",
    "    # constraint for the first team\n",
    "    s_sat.add(\n",
    "        at_most_k_seq(\n",
    "            [matches_to_periods[0][t2][bp] for t2 in range(1, n)], 2, solver\n",
    "        )\n",
    "    )\n",
    "    # constraint for the last team\n",
    "    s_sat.add(\n",
    "        at_most_k_seq(\n",
    "            [matches_to_periods[t2][-1][bp] for t2 in range(0, n - 1)], 2, solver\n",
    "        )\n",
    "    )\n",
    "    # constraint for the teams between the first and the last teams\n",
    "    for t1 in range(1, n - 1):\n",
    "        s_sat.add(\n",
    "            at_most_k_seq(\n",
    "                # matches where t1 is away, i.e. t1 > t2\n",
    "                [matches_to_periods[t2][t1][bp] for t2 in range(t1)] +\n",
    "                # matches where t1 is home, i.e. t1 < t2\n",
    "                [matches_to_periods[t1][t2][bp] for t2 in range(t1 + 1, n)],\n",
    "                2,\n",
    "                solver,\n",
    "            )\n",
    "        )"
   ]
  },
  {
   "cell_type": "markdown",
   "id": "d049fe47",
   "metadata": {},
   "source": [
    "If a solution is found, return the schedule with the runtime, otherwise return None"
   ]
  },
  {
   "cell_type": "code",
   "execution_count": null,
   "id": "28f033fb",
   "metadata": {},
   "outputs": [],
   "source": [
    "start_time = time.time() # start solving\n",
    "if s_sat.check() == solver.sat: # solving ends with the return value from s_sat.check()\n",
    "    # Solution found\n",
    "    runtime = time.time() - start_time\n",
    "    model_sat = s_sat.model()\n",
    "    sat_schedule = parse_matches_schedule( # parse the sat schedule\n",
    "        matches_schedule, rb, periods, weeks, model_sat\n",
    "    )\n",
    "    return (\n",
    "        sat_schedule,\n",
    "        runtime,\n",
    "        None, # this indicates that the solution is not balanced (i.e. optimized)\n",
    "    )\n",
    "else:\n",
    "    # Solution not found\n",
    "    return None"
   ]
  },
  {
   "cell_type": "markdown",
   "id": "430ddd7d",
   "metadata": {},
   "source": [
    "### `solve_optimize`"
   ]
  },
  {
   "cell_type": "markdown",
   "id": "3d0d0ca8",
   "metadata": {},
   "source": [
    "This command is needed since `solve_optimize` is run in a subprocess"
   ]
  },
  {
   "cell_type": "code",
   "execution_count": null,
   "id": "ce9bdbf8",
   "metadata": {},
   "outputs": [],
   "source": [
    "# translate module name into module\n",
    "solver = importlib.import_module(solver_mod_name)"
   ]
  },
  {
   "cell_type": "markdown",
   "id": "efe1c34b",
   "metadata": {},
   "source": [
    "**Variables**\n",
    "- `slots_schedule[p][w]` i.e. $flip\\_slot_{p, w}$\n",
    "- `match_to_slots[ti][tj]` i.e. $match\\_to\\_slots_{t1, t2}$"
   ]
  },
  {
   "cell_type": "code",
   "execution_count": null,
   "id": "678f1390",
   "metadata": {},
   "outputs": [],
   "source": [
    " # Variables\n",
    "slots_schedule = [\n",
    "    [solver.Bool(f\"slots_schedule_{p}_{w}\") for w in weeks] for p in periods\n",
    "]\n",
    "matches_to_slots = [\n",
    "    [solver.Bool(f\"matches_to_slots_{ti}_{tj}\") for tj in teams] for ti in teams\n",
    "]"
   ]
  },
  {
   "cell_type": "markdown",
   "id": "ae3e6a6b",
   "metadata": {},
   "source": [
    "The optimal solution is set to `sat_solution` in the case where the optimization phase isn't completed"
   ]
  },
  {
   "cell_type": "code",
   "execution_count": null,
   "id": "8532291c",
   "metadata": {},
   "outputs": [],
   "source": [
    " # opt_solution is sat_solution if optimization fails\n",
    "opt_solution = sat_solution"
   ]
  },
  {
   "cell_type": "markdown",
   "id": "fb9da517",
   "metadata": {},
   "source": [
    "Initialize the `runtime` to keep track of the elapsed time"
   ]
  },
  {
   "cell_type": "code",
   "execution_count": null,
   "id": "fce0b567",
   "metadata": {},
   "outputs": [],
   "source": [
    "runtime = 0"
   ]
  },
  {
   "cell_type": "markdown",
   "id": "035bfff6",
   "metadata": {},
   "source": [
    "Binary search of the maximum minimum number `mid` of times each team plays at home and away in the interval [`low`, `high`].\\\n",
    "The search pattern consists of:\n",
    "- instantiating a new solver `s_opt` for each value of `mid`\n",
    "- binding `slots_schedule` to `matches_to_slots` by considering the `sat_schedule` found by `solve_satisfy`\n",
    "- imposing for each team the lower bound `mid` for:\n",
    "    - the times playes away, i.e. `at_least_k_seq(matches_to_slots,mid,...)`\n",
    "    - the times playes at home, i.e. `at_least_k_seq(Not(matches_to_slots),mid,...)`\n",
    "\n",
    "As shown before, the implementation relies on the slot-wise ordering of `sat_schedule`"
   ]
  },
  {
   "cell_type": "code",
   "execution_count": null,
   "id": "f8187939",
   "metadata": {},
   "outputs": [],
   "source": [
    " # Binary search optimization\n",
    "low, high = 1, (n - 1) // 2\n",
    "while low <= high:\n",
    "    mid = (low + high) // 2\n",
    "\n",
    "    s_opt = solver.Solver()  # solver for optimization\n",
    "    set_params(s_opt, solver_params) \n",
    "\n",
    "    # bind slots_schedule to matches_to_slots\n",
    "    for p in periods:\n",
    "        for w in weeks:\n",
    "            s_opt.add(\n",
    "                Iff(\n",
    "                    slots_schedule[p][w],\n",
    "                    matches_to_slots[sat_schedule[p][w][0] - 1][\n",
    "                        sat_schedule[p][w][1] - 1\n",
    "                    ],\n",
    "                    solver,\n",
    "                )\n",
    "            )\n",
    "\n",
    "    # optimization: constrain the minimum number of times each team plays at home\n",
    "    # first team\n",
    "    s_opt.add(\n",
    "        at_least_k_seq([matches_to_slots[0][t2] for t2 in range(1, n)], mid, solver) # lower bound on times played away\n",
    "    )\n",
    "    s_opt.add(\n",
    "        at_least_k_seq([solver.Not(matches_to_slots[0][t2]) for t2 in range(1, n)], mid, solver) # lower bound on times played at home\n",
    "    )\n",
    "    # last team\n",
    "    s_opt.add(\n",
    "        at_least_k_seq(\n",
    "            [solver.Not(matches_to_slots[t2][-1]) for t2 in range(0, n - 1)],\n",
    "            mid,\n",
    "            solver,\n",
    "        )\n",
    "    )\n",
    "    s_opt.add(\n",
    "        at_least_k_seq(\n",
    "            [matches_to_slots[t2][-1] for t2 in range(0, n - 1)],\n",
    "            mid,\n",
    "            solver,\n",
    "        )\n",
    "    )\n",
    "    # teams between the first and the last teams\n",
    "    for t1 in range(1, n - 1):\n",
    "        s_opt.add(\n",
    "            # matches in sat_schedule where t1 is away, i.e. t1 > t2\n",
    "            at_least_k_seq(\n",
    "                [solver.Not(matches_to_slots[t2][t1]) for t2 in range(t1)]\n",
    "                + [matches_to_slots[t1][t2] for t2 in range(t1 + 1, n)],\n",
    "                mid,\n",
    "                solver,\n",
    "            )\n",
    "        )\n",
    "        s_opt.add(\n",
    "            # matches in sat_schedule where t1 is home, i.e. t1 < t2\n",
    "            at_least_k_seq(\n",
    "                [matches_to_slots[t2][t1] for t2 in range(t1)]\n",
    "                + [solver.Not(matches_to_slots[t1][t2]) for t2 in range(t1 + 1, n)],\n",
    "                mid,\n",
    "                solver,\n",
    "            )\n",
    "        )\n",
    "    if s_opt.check() == solver.sat:\n",
    "        runtime += time.time() - start_time # update run-time\n",
    "        model_opt = s_opt.model()\n",
    "        sat_schedule = sat_solution[0]\n",
    "        opt_schedule = parse_slots_schedule(\n",
    "            sat_schedule, slots_schedule, periods, weeks, model_opt\n",
    "        )\n",
    "        opt_solution = (  # update optimal solution\n",
    "            opt_schedule,\n",
    "            runtime,\n",
    "            mid,\n",
    "        )\n",
    "        low = mid + 1  # increase optimization function\n",
    "    else:\n",
    "        runtime += time.time() - start_time\n",
    "        high = mid - 1  # roll back\n",
    "\n",
    "return opt_solution"
   ]
  },
  {
   "cell_type": "markdown",
   "id": "9b3ffb9f",
   "metadata": {},
   "source": [
    "# Conclusion"
   ]
  },
  {
   "cell_type": "markdown",
   "id": "2a0331b0",
   "metadata": {},
   "source": [
    "- Symmetry breaking constraints aren't implemented since no consistent computational gain was observed."
   ]
  }
 ],
 "metadata": {
  "language_info": {
   "name": "python"
  }
 },
 "nbformat": 4,
 "nbformat_minor": 5
}
