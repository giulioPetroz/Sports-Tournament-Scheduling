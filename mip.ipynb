{
 "cells": [
  {
   "cell_type": "markdown",
   "id": "74d34b2e",
   "metadata": {},
   "source": [
    "# MIP model implementation details and notes"
   ]
  },
  {
   "cell_type": "markdown",
   "id": "3a3dd9fc",
   "metadata": {},
   "source": [
    "Implementation with the Python, solver independent, **PuLP** library. Key classes:\n",
    "- LpProblem: MIP problem constructor.\n",
    "- LpVariables: MIP variables.\n",
    "- constraints and objective function are added with the overloaded \"+=\" operator.\n",
    "\n",
    "Parameters to run the model:\n",
    "- teams: number of teams\n",
    "- solvers: ids of solver to test:\n",
    "    - **CBC** is the PuLP default\n",
    "    - **HiGHS** and **SCIP** are free\n",
    "    - **CPLEX** is IBM's solver, requires license and could not be legally uploaded to docker container\n",
    "- timeout"
   ]
  },
  {
   "cell_type": "code",
   "execution_count": null,
   "id": "6d4b59e5",
   "metadata": {},
   "outputs": [],
   "source": [
    "from pulp import *\n",
    "import argparse\n",
    "from timeit import default_timer as timer\n",
    "import json\n",
    "\n",
    "# Command line parameters\n",
    "parser = argparse.ArgumentParser(description=\"STS with MIP\")\n",
    "parser.add_argument(\"-n\", \"--teams\", type=int, help=\"Number of teams\")\n",
    "parser.add_argument(\n",
    "    \"--solvers\",\n",
    "    nargs=\"+\",\n",
    "    type=str,\n",
    "    default=[\"CBC\"],\n",
    "    choices=[\"CBC\", \"HiGHS\", \"gurobi\", \"CPLEX\", \"SCIP\"],\n",
    "    help=\"Solvers chosen to solve instance\",\n",
    ")\n",
    "parser.add_argument(\n",
    "    \"-t\", \"--timeout\", type=int, default=300, help=\"Solver timeout in seconds\"\n",
    ")\n",
    "\n",
    "args = parser.parse_args()\n",
    "\n",
    "n = args.teams  # number of teams\n",
    "solvers = args.solvers  # List of solver ids\n",
    "timeout = args.timeout  # Solver timeout\n",
    "\n",
    "teams = range(n)  # Team identifiers\n",
    "weeks = range(n - 1)  # Week identifiers\n",
    "periods = range(n // 2)  # Period identifiers"
   ]
  },
  {
   "cell_type": "markdown",
   "id": "db4c8043",
   "metadata": {},
   "source": [
    "**NOTE**: gurobi was not tested because the download and the license required to connect to the \"university network\".\n",
    "\n",
    "Following code generates round-robin schedule: ($rb_{m, w}$ is week_matchups)"
   ]
  },
  {
   "cell_type": "code",
   "execution_count": null,
   "id": "0422fa19",
   "metadata": {},
   "outputs": [],
   "source": [
    "# Round robin\n",
    "week_matchups = []\n",
    "for w in weeks:\n",
    "    current_week_games = []\n",
    "    current_week_games.append(tuple(sorted([n - 1, w])))\n",
    "\n",
    "    for p in range(1, n // 2):\n",
    "        team1 = (p + w) % (n - 1)\n",
    "        team2 = (n - p + w - 1) % (n - 1)\n",
    "        current_week_games.append(tuple(sorted([team1, team2])))\n",
    "    week_matchups.append(current_week_games)"
   ]
  },
  {
   "cell_type": "markdown",
   "id": "1115db11",
   "metadata": {},
   "source": [
    "The following method takes as input the assigned decision variables and creates the output list of list schedule."
   ]
  },
  {
   "cell_type": "code",
   "execution_count": null,
   "id": "92e35b24",
   "metadata": {},
   "outputs": [],
   "source": [
    "def format_schedule(period_assign, home_away_assign, week_matchups, n):\n",
    "    schedule = []\n",
    "    for p in range(n // 2):\n",
    "        period_games = []\n",
    "        for w in range(n - 1):\n",
    "            week_game = None\n",
    "            for g in range(n // 2):\n",
    "                if value(period_assign[w][p][g]) > 0.5:\n",
    "                    i, j = week_matchups[w][g]\n",
    "                    if value(home_away_assign[w][g]) > 0.5:\n",
    "                        week_game = [j + 1, i + 1]\n",
    "                    else:\n",
    "                        week_game = [i + 1, j + 1]\n",
    "\n",
    "            period_games.append(week_game)\n",
    "\n",
    "        schedule.append(period_games)\n",
    "    return schedule"
   ]
  },
  {
   "cell_type": "markdown",
   "id": "bf3beb4a",
   "metadata": {},
   "source": [
    "For each solver provided by the user the model is run.  \n",
    "The CPLEX solver is assumed to be in the the directory specified in the README.md file"
   ]
  },
  {
   "cell_type": "code",
   "execution_count": null,
   "id": "17ba0578",
   "metadata": {},
   "outputs": [],
   "source": [
    "result = {}  # holds result for each solver\n",
    "\n",
    "for solver_id in solvers:\n",
    "    # Selecting solver\n",
    "    match solver_id:\n",
    "        case \"CBC\":\n",
    "            solver = PULP_CBC_CMD(timeLimit=timeout)\n",
    "        case \"HiGHS\":\n",
    "            solver = HiGHS(timeLimit=timeout)\n",
    "        case \"gurobi\":\n",
    "            solver = GUROBI_CMD(timeLimit=timeout)\n",
    "        case \"CPLEX\":\n",
    "            solver = CPLEX_CMD(\n",
    "                path=\"/opt/ibm/ILOG/CPLEX_Studio2211/cplex/bin/x86-64_linux/cplex\",\n",
    "                timeLimit=timeout,\n",
    "            )\n",
    "        case \"SCIP\":\n",
    "            solver = SCIP_CMD(timeLimit=timeout)"
   ]
  },
  {
   "cell_type": "markdown",
   "id": "0e3493fc",
   "metadata": {},
   "source": [
    "Initialize the the MIP problem object:"
   ]
  },
  {
   "cell_type": "code",
   "execution_count": null,
   "id": "9ea0bfe8",
   "metadata": {},
   "outputs": [],
   "source": [
    "# Model\n",
    "prob = LpProblem(\"STS problem\", LpMinimize)"
   ]
  },
  {
   "cell_type": "markdown",
   "id": "7b7007c5",
   "metadata": {},
   "source": [
    "- period_assign corresponds to $match\\_schedule_{w, p, m}$ from the report, equal to 1 iff match m is played in week w and period p\n",
    "- home_away_assign corresponds to $flip_slot_{w, p}$ from the report, equal to 0 if order in $rb$ is preserved, 1 to reverse"
   ]
  },
  {
   "cell_type": "code",
   "execution_count": null,
   "id": "5955b2e9",
   "metadata": {},
   "outputs": [],
   "source": [
    "# Decision variables\n",
    "period_assign = LpVariable.dicts(\n",
    "    \"PeriodAssignment\", indices=(weeks, periods, periods), cat=\"Binary\"\n",
    ")  # period_assign[i, j, k] == 1 if in week i period j the game in position k in week_matchups is played out\n",
    "\n",
    "home_away_assign = LpVariable.dicts(\n",
    "    \"HomeAwayAssignment\", indices=(weeks, periods), cat=\"Binary\"\n",
    ")  # For (i, j) in week_matchups[week, game_index], value 0 for i vs j and value 1 for j vs i\n"
   ]
  },
  {
   "cell_type": "markdown",
   "id": "ae4699ef",
   "metadata": {},
   "source": [
    "Each period is assigned to one game and each game to one period constraints.  \n",
    "NOTE: constraints are a linear combination (lpSum) and are added to the problem with \"prob += ...\" where prob is the problem object"
   ]
  },
  {
   "cell_type": "code",
   "execution_count": null,
   "id": "3d5dede2",
   "metadata": {},
   "outputs": [],
   "source": [
    "# Each period is assigned one game per week\n",
    "for w in weeks:\n",
    "    for p in periods:\n",
    "        prob += lpSum([period_assign[w][p][g] for g in periods]) == 1\n",
    "\n",
    "# Each game is assigned to one period\n",
    "for w in weeks:\n",
    "    for g in periods:\n",
    "        prob += lpSum([period_assign[w][p][g] for p in periods]) == 1"
   ]
  },
  {
   "cell_type": "markdown",
   "id": "467917ef",
   "metadata": {},
   "source": [
    "- team_home_games corresponds to $H_t$, the home game counter.\n",
    "- team_play_period corresponds to $TP_{t, w, p}$ from the report, its equal to 1 if team t plays in week w and period p."
   ]
  },
  {
   "cell_type": "code",
   "execution_count": null,
   "id": "102b79f7",
   "metadata": {},
   "outputs": [],
   "source": [
    "# Auxiliary variables\n",
    "team_home_games = LpVariable.dicts(\n",
    "    \"HomeGamesCount\", (teams), lowBound=0, upBound=n - 1, cat=\"Integer\"\n",
    ")\n",
    "team_play_period = LpVariable.dicts(\n",
    "    \"TeamPlayerPeriod\", indices=(teams, weeks, periods), cat=\"Binary\"\n",
    ")  # team_play_period[i,j,k] == 1 if team i in week j plays in period k\n"
   ]
  },
  {
   "cell_type": "markdown",
   "id": "73ca96d1",
   "metadata": {},
   "source": [
    "Linking together values of $match_schedule_{m, w, p}$ to those in $TP_{t, w, p}$ based on $rb$:"
   ]
  },
  {
   "cell_type": "code",
   "execution_count": null,
   "id": "46d9e94b",
   "metadata": {},
   "outputs": [],
   "source": [
    "# Link team_play_period to period_assign and week_matchups\n",
    "for t in teams:\n",
    "    for w in weeks:\n",
    "        team_weekly_game = None  # Game team t plays in week w\n",
    "        for game_idx in periods:\n",
    "            team1, team2 = week_matchups[w][game_idx]\n",
    "            if team1 == t or team2 == t:\n",
    "                team_weekly_game = game_idx\n",
    "                break\n",
    "\n",
    "        for p in periods:\n",
    "            # team_play_period[t][w][p] == 1 iff period-assign[w][p][game_idx] == 1\n",
    "            prob += team_play_period[t][w][p] == period_assign[w][p][game_idx]\n"
   ]
  },
  {
   "cell_type": "markdown",
   "id": "4f7953eb",
   "metadata": {},
   "source": [
    "Constraint of each team playing at most twice in the same period:"
   ]
  },
  {
   "cell_type": "code",
   "execution_count": null,
   "id": "d025e4f8",
   "metadata": {},
   "outputs": [],
   "source": [
    "# Each team plays at most twice in the same period\n",
    "for t in teams:\n",
    "    for p_scheduled in periods:\n",
    "        prob += lpSum([team_play_period[t][w][p_scheduled] for w in weeks]) <= 2"
   ]
  },
  {
   "cell_type": "markdown",
   "id": "0523b3a7",
   "metadata": {},
   "source": [
    "Objective variable initialization and addition to problem:"
   ]
  },
  {
   "cell_type": "code",
   "execution_count": null,
   "id": "a86ed720",
   "metadata": {},
   "outputs": [],
   "source": [
    "# Objective variable\n",
    "max_imbalance = LpVariable(\"MaxImbalance\", lowBound=1, upBound=n - 1, cat=\"Integer\")\n",
    "\n",
    "prob += max_imbalance"
   ]
  },
  {
   "cell_type": "markdown",
   "id": "737cadda",
   "metadata": {},
   "source": [
    "Computing home games for each team and imposing max_imbalance greater than the absolute value of the difference (abs is decomposed into 2 inequalities)\n",
    "\n",
    "The number of home games for a team is the number of times the team is assigned to the first slot and there is no slot flip plus the number of times the team is assigned to the second and there is a slot flip."
   ]
  },
  {
   "cell_type": "code",
   "execution_count": null,
   "id": "ff0c96c0",
   "metadata": {},
   "outputs": [],
   "source": [
    "# How much a team plays at home\n",
    "for t in teams:\n",
    "    prob += team_home_games[t] == lpSum(\n",
    "        [\n",
    "            (1 - home_away_assign[w][p])\n",
    "            for w in weeks\n",
    "            for p in periods\n",
    "            if week_matchups[w][p][0] == t\n",
    "        ]\n",
    "    ) + lpSum(\n",
    "        home_away_assign[w][p]\n",
    "        for w in weeks\n",
    "        for p in periods\n",
    "        if week_matchups[w][p][1] == t\n",
    "    )\n",
    "\n",
    "for t in teams:\n",
    "    # max_imbalance = max{|home_games - away_games|}\n",
    "    prob += max_imbalance >= (2 * team_home_games[t] - (n - 1))\n",
    "    prob += max_imbalance >= -(2 * team_home_games[t] - (n - 1))"
   ]
  },
  {
   "cell_type": "markdown",
   "id": "4ac46670",
   "metadata": {},
   "source": [
    "timing the runtime of the solver, solve() runs the solver on the prob problem"
   ]
  },
  {
   "cell_type": "code",
   "execution_count": null,
   "id": "e2ec1b0e",
   "metadata": {},
   "outputs": [],
   "source": [
    "# Solve problem\n",
    "start = timer()\n",
    "prob.solve(solver)\n",
    "end = timer()"
   ]
  },
  {
   "cell_type": "markdown",
   "id": "3094d5bc",
   "metadata": {},
   "source": [
    "Storing results at timeout.  \n",
    "NOTE: the if statement in optimal is to counteract CPLEX not stopping at timeout (yeah, its a barbaric way to address the issue)"
   ]
  },
  {
   "cell_type": "code",
   "execution_count": null,
   "id": "921804d0",
   "metadata": {},
   "outputs": [],
   "source": [
    "# Solution output\n",
    "match LpStatus[prob.status]:\n",
    "    case \"Optimal\":  # Found optimal solution\n",
    "        if (\n",
    "            solver_id == \"CPLEX\" and int(end - start) > 300\n",
    "        ):  # Fix for CPLEX sometimes not stopping at timeout\n",
    "            result[solver_id] = {\n",
    "                \"time\": timeout,\n",
    "                \"optimal\": False,\n",
    "                \"obj\": None,\n",
    "                \"sol\": [],\n",
    "            }\n",
    "        else:\n",
    "            result[solver_id] = {\n",
    "                \"time\": int(end - start),\n",
    "                \"optimal\": True,\n",
    "                \"obj\": value(prob.objective),\n",
    "                \"sol\": format_schedule(\n",
    "                    period_assign, home_away_assign, week_matchups, n\n",
    "                ),\n",
    "            }\n",
    "    case \"Not optimal\":  # No optimality guarantee\n",
    "        result[solver_id] = {\n",
    "            \"time\": timeout,\n",
    "            \"optimal\": False,\n",
    "            \"obj\": value(prob.objective),\n",
    "            \"sol\": format_schedule(\n",
    "                period_assign, home_away_assign, week_matchups, n\n",
    "            ),\n",
    "        }\n",
    "    case \"Not Solved\":  # Timed out before finding a solution\n",
    "        result[solver_id] = {\n",
    "            \"time\": timeout,\n",
    "            \"optimal\": False,\n",
    "            \"obj\": None,\n",
    "            \"sol\": [],\n",
    "        }\n",
    "    case \"Infeasible\":\n",
    "        result[solver_id] = {\n",
    "            \"time\": int(end - start),\n",
    "            \"optimal\": False,\n",
    "            \"obj\": None,\n",
    "            \"sol\": None,\n",
    "        }\n",
    "    case \"Unbounded\":\n",
    "        result[solver_id] = {\n",
    "            \"time\": int(end - start),\n",
    "            \"optimal\": False,\n",
    "            \"obj\": \"-inf\",\n",
    "            \"sol\": None,\n",
    "        }\n",
    "\n",
    "print(result)\n",
    "# Storing result\n",
    "with open(\"res/MIP/\" + str(n) + \".json\", \"w\") as file:\n",
    "    json.dump(result, file)"
   ]
  },
  {
   "cell_type": "markdown",
   "id": "7c7a7a7e",
   "metadata": {},
   "source": [
    "## Final considerations\n",
    "- Not using symmetry breaking constraints because the variable additions slow down the model instead of speeding up the search.\n",
    "- SCIP is the best solver while CBC was the one with the worst performance."
   ]
  }
 ],
 "metadata": {
  "kernelspec": {
   "display_name": "envAI",
   "language": "python",
   "name": "python3"
  },
  "language_info": {
   "name": "python",
   "version": "3.12.2"
  }
 },
 "nbformat": 4,
 "nbformat_minor": 5
}
